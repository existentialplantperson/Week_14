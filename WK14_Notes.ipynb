{
 "cells": [
  {
   "cell_type": "markdown",
   "id": "643ef5a9",
   "metadata": {},
   "source": [
    "### Week 14 - Multiple Linear Regression and Logistic Regression"
   ]
  },
  {
   "cell_type": "markdown",
   "id": "36a10bfc",
   "metadata": {},
   "source": [
    "Multiple linear regression predicts dependent variable from multiple independent variables :multivariate: means the result is a vector.\n",
    "\n",
    "How do we choose columns\n",
    "- look at correlations \n",
    "- cross validation, check out r-squared before and after variables are added, look at correlations\n",
    "- use mean squared error and r-squared to validate model performance \n",
    "\n",
    "Mean Squared error - want to be as small as possible\n",
    "\n",
    "R-squared -  the square of the correlation"
   ]
  },
  {
   "cell_type": "markdown",
   "id": "f1ac954e",
   "metadata": {},
   "source": [
    "The data (X1, X2, X3, X4, X5, X6, X7) are for each city.\n",
    "\n",
    "    X1 = total overall reported crime rate per 1 million residents\n",
    "    X2 = reported violent crime rate per 100,000 residents\n",
    "    X3 = annual police funding in USD/resident\n",
    "    X4 = % of people 25 years+ with 4 yrs. of high school\n",
    "    X5 = % of 16 to 19 year-olds not in highschool and not highschool graduates.\n",
    "    X6 = % of 18 to 24 year-olds in college\n",
    "    X7 = % of people 25 years+ with at least 4 years of college\n",
    "\n",
    "Reference: Life In America's Small Cities, By G.S. Thomas"
   ]
  },
  {
   "cell_type": "code",
   "execution_count": 1,
   "id": "29026ed3",
   "metadata": {},
   "outputs": [],
   "source": [
    "import numpy as np\n",
    "import pandas as pd\n",
    "import matplotlib.pyplot as plt\n",
    "import seaborn as sns\n",
    "\n",
    "from sklearn.model_selection import train_test_split\n",
    "from sklearn.linear_model import LinearRegression"
   ]
  },
  {
   "cell_type": "code",
   "execution_count": 2,
   "id": "5c6c2c77",
   "metadata": {},
   "outputs": [
    {
     "data": {
      "text/html": [
       "<div>\n",
       "<style scoped>\n",
       "    .dataframe tbody tr th:only-of-type {\n",
       "        vertical-align: middle;\n",
       "    }\n",
       "\n",
       "    .dataframe tbody tr th {\n",
       "        vertical-align: top;\n",
       "    }\n",
       "\n",
       "    .dataframe thead th {\n",
       "        text-align: right;\n",
       "    }\n",
       "</style>\n",
       "<table border=\"1\" class=\"dataframe\">\n",
       "  <thead>\n",
       "    <tr style=\"text-align: right;\">\n",
       "      <th></th>\n",
       "      <th>X1</th>\n",
       "      <th>X2</th>\n",
       "      <th>X3</th>\n",
       "      <th>X4</th>\n",
       "      <th>X5</th>\n",
       "      <th>X6</th>\n",
       "      <th>X7</th>\n",
       "    </tr>\n",
       "  </thead>\n",
       "  <tbody>\n",
       "    <tr>\n",
       "      <th>0</th>\n",
       "      <td>478</td>\n",
       "      <td>184</td>\n",
       "      <td>40</td>\n",
       "      <td>74</td>\n",
       "      <td>11</td>\n",
       "      <td>31</td>\n",
       "      <td>20</td>\n",
       "    </tr>\n",
       "    <tr>\n",
       "      <th>1</th>\n",
       "      <td>494</td>\n",
       "      <td>213</td>\n",
       "      <td>32</td>\n",
       "      <td>72</td>\n",
       "      <td>11</td>\n",
       "      <td>43</td>\n",
       "      <td>18</td>\n",
       "    </tr>\n",
       "    <tr>\n",
       "      <th>2</th>\n",
       "      <td>643</td>\n",
       "      <td>347</td>\n",
       "      <td>57</td>\n",
       "      <td>70</td>\n",
       "      <td>18</td>\n",
       "      <td>16</td>\n",
       "      <td>16</td>\n",
       "    </tr>\n",
       "    <tr>\n",
       "      <th>3</th>\n",
       "      <td>341</td>\n",
       "      <td>565</td>\n",
       "      <td>31</td>\n",
       "      <td>71</td>\n",
       "      <td>11</td>\n",
       "      <td>25</td>\n",
       "      <td>19</td>\n",
       "    </tr>\n",
       "    <tr>\n",
       "      <th>4</th>\n",
       "      <td>773</td>\n",
       "      <td>327</td>\n",
       "      <td>67</td>\n",
       "      <td>72</td>\n",
       "      <td>9</td>\n",
       "      <td>29</td>\n",
       "      <td>24</td>\n",
       "    </tr>\n",
       "  </tbody>\n",
       "</table>\n",
       "</div>"
      ],
      "text/plain": [
       "    X1   X2  X3  X4  X5  X6  X7\n",
       "0  478  184  40  74  11  31  20\n",
       "1  494  213  32  72  11  43  18\n",
       "2  643  347  57  70  18  16  16\n",
       "3  341  565  31  71  11  25  19\n",
       "4  773  327  67  72   9  29  24"
      ]
     },
     "execution_count": 2,
     "metadata": {},
     "output_type": "execute_result"
    }
   ],
   "source": [
    "crime_df = pd.read_csv('..\\Datasets\\crime_data.csv')\n",
    "crime_df.head()"
   ]
  },
  {
   "cell_type": "code",
   "execution_count": 3,
   "id": "640ccb42",
   "metadata": {},
   "outputs": [
    {
     "data": {
      "text/plain": [
       "<AxesSubplot:>"
      ]
     },
     "execution_count": 3,
     "metadata": {},
     "output_type": "execute_result"
    },
    {
     "data": {
      "image/png": "[encoded data removed]",
      "text/plain": [
       "<Figure size 432x288 with 2 Axes>"
      ]
     },
     "metadata": {
      "needs_background": "light"
     },
     "output_type": "display_data"
    }
   ],
   "source": [
    "#look at correlation to see which variables we want to use for multiple linear regression\n",
    "#need to use variables that are uncorrelated with each other in our equation\n",
    "\n",
    "correlation = crime_df.corr()\n",
    "sns.heatmap(correlation, annot=True)\n",
    "\n",
    "#X2 is the most highly correlated with X1 (predicted)\n",
    "#also try X5"
   ]
  },
  {
   "cell_type": "code",
   "execution_count": 5,
   "id": "3375e85d",
   "metadata": {},
   "outputs": [],
   "source": [
    "X = crime_df[['X2','X5']]\n",
    "y = crime_df['X1']\n",
    "\n",
    "#x1 = m2x2 + m5x5\n",
    "#predict x1 based on the coefficient of values of x2 ..."
   ]
  },
  {
   "cell_type": "code",
   "execution_count": 6,
   "id": "60bfb5a4",
   "metadata": {},
   "outputs": [
    {
     "data": {
      "text/plain": [
       "LinearRegression()"
      ]
     },
     "execution_count": 6,
     "metadata": {},
     "output_type": "execute_result"
    }
   ],
   "source": [
    "from sklearn.linear_model import LinearRegression\n",
    "regression = LinearRegression()\n",
    "regression.fit(X,y)"
   ]
  },
  {
   "cell_type": "code",
   "execution_count": 7,
   "id": "5c82e54f",
   "metadata": {},
   "outputs": [
    {
     "data": {
      "text/plain": [
       "0.5837453357756106"
      ]
     },
     "execution_count": 7,
     "metadata": {},
     "output_type": "execute_result"
    }
   ],
   "source": [
    "#get y predicted values of X1 based on X2 and X5\n",
    "#R-squared value\n",
    "y_pred = regression.predict(X)\n",
    "accuracy_score = regression.score(X,y)\n",
    "accuracy_score"
   ]
  },
  {
   "cell_type": "code",
   "execution_count": null,
   "id": "7edc22da",
   "metadata": {},
   "outputs": [],
   "source": [
    "#better performance with multiple variables that are thoughtfully chosen\n",
    "\n",
    "#cross validation by iterating with other columns and checking r-squared values"
   ]
  },
  {
   "cell_type": "code",
   "execution_count": 8,
   "id": "4c7f1b1f",
   "metadata": {},
   "outputs": [
    {
     "data": {
      "text/plain": [
       "array([0.37090062, 5.45658858])"
      ]
     },
     "execution_count": 8,
     "metadata": {},
     "output_type": "execute_result"
    }
   ],
   "source": [
    "#regression coefficients \n",
    "regression.coef_"
   ]
  },
  {
   "cell_type": "code",
   "execution_count": null,
   "id": "f2fa644b",
   "metadata": {},
   "outputs": [],
   "source": [
    "#equation for the model\n",
    "#   X1 = 0.37X2 + 5.46X5"
   ]
  },
  {
   "cell_type": "markdown",
   "id": "e474079d",
   "metadata": {},
   "source": [
    "### Ordinary Least Squares\n",
    "\n",
    "OLS Regression\n",
    "- minimizing loss\n",
    "- type of linear regression that lets you estimate the dependent variable and understand the interaction between variables\n",
    "- helpful for highly correlated variables\n",
    "- allows us to look at interactions and features without interactions and incorporate both into model"
   ]
  },
  {
   "cell_type": "code",
   "execution_count": 10,
   "id": "24934fe5",
   "metadata": {},
   "outputs": [],
   "source": [
    "from statsmodels.formula.api import ols"
   ]
  },
  {
   "cell_type": "code",
   "execution_count": 11,
   "id": "57f9809c",
   "metadata": {},
   "outputs": [
    {
     "data": {
      "text/html": [
       "<div>\n",
       "<style scoped>\n",
       "    .dataframe tbody tr th:only-of-type {\n",
       "        vertical-align: middle;\n",
       "    }\n",
       "\n",
       "    .dataframe tbody tr th {\n",
       "        vertical-align: top;\n",
       "    }\n",
       "\n",
       "    .dataframe thead th {\n",
       "        text-align: right;\n",
       "    }\n",
       "</style>\n",
       "<table border=\"1\" class=\"dataframe\">\n",
       "  <thead>\n",
       "    <tr style=\"text-align: right;\">\n",
       "      <th></th>\n",
       "      <th>Pregnancies</th>\n",
       "      <th>Glucose</th>\n",
       "      <th>BloodPressure</th>\n",
       "      <th>SkinThickness</th>\n",
       "      <th>Insulin</th>\n",
       "      <th>BMI</th>\n",
       "      <th>DiabetesPedigreeFunction</th>\n",
       "      <th>Age</th>\n",
       "      <th>Outcome</th>\n",
       "    </tr>\n",
       "  </thead>\n",
       "  <tbody>\n",
       "    <tr>\n",
       "      <th>0</th>\n",
       "      <td>6</td>\n",
       "      <td>148</td>\n",
       "      <td>72</td>\n",
       "      <td>35</td>\n",
       "      <td>0</td>\n",
       "      <td>33.6</td>\n",
       "      <td>0.627</td>\n",
       "      <td>50</td>\n",
       "      <td>1</td>\n",
       "    </tr>\n",
       "    <tr>\n",
       "      <th>1</th>\n",
       "      <td>1</td>\n",
       "      <td>85</td>\n",
       "      <td>66</td>\n",
       "      <td>29</td>\n",
       "      <td>0</td>\n",
       "      <td>26.6</td>\n",
       "      <td>0.351</td>\n",
       "      <td>31</td>\n",
       "      <td>0</td>\n",
       "    </tr>\n",
       "    <tr>\n",
       "      <th>2</th>\n",
       "      <td>8</td>\n",
       "      <td>183</td>\n",
       "      <td>64</td>\n",
       "      <td>0</td>\n",
       "      <td>0</td>\n",
       "      <td>23.3</td>\n",
       "      <td>0.672</td>\n",
       "      <td>32</td>\n",
       "      <td>1</td>\n",
       "    </tr>\n",
       "    <tr>\n",
       "      <th>3</th>\n",
       "      <td>1</td>\n",
       "      <td>89</td>\n",
       "      <td>66</td>\n",
       "      <td>23</td>\n",
       "      <td>94</td>\n",
       "      <td>28.1</td>\n",
       "      <td>0.167</td>\n",
       "      <td>21</td>\n",
       "      <td>0</td>\n",
       "    </tr>\n",
       "    <tr>\n",
       "      <th>4</th>\n",
       "      <td>0</td>\n",
       "      <td>137</td>\n",
       "      <td>40</td>\n",
       "      <td>35</td>\n",
       "      <td>168</td>\n",
       "      <td>43.1</td>\n",
       "      <td>2.288</td>\n",
       "      <td>33</td>\n",
       "      <td>1</td>\n",
       "    </tr>\n",
       "  </tbody>\n",
       "</table>\n",
       "</div>"
      ],
      "text/plain": [
       "   Pregnancies  Glucose  BloodPressure  SkinThickness  Insulin   BMI  \\\n",
       "0            6      148             72             35        0  33.6   \n",
       "1            1       85             66             29        0  26.6   \n",
       "2            8      183             64              0        0  23.3   \n",
       "3            1       89             66             23       94  28.1   \n",
       "4            0      137             40             35      168  43.1   \n",
       "\n",
       "   DiabetesPedigreeFunction  Age  Outcome  \n",
       "0                     0.627   50        1  \n",
       "1                     0.351   31        0  \n",
       "2                     0.672   32        1  \n",
       "3                     0.167   21        0  \n",
       "4                     2.288   33        1  "
      ]
     },
     "execution_count": 11,
     "metadata": {},
     "output_type": "execute_result"
    }
   ],
   "source": [
    "diabetes_df = pd.read_csv('..\\Datasets\\diabetes.csv')\n",
    "diabetes_df.head()"
   ]
  },
  {
   "cell_type": "code",
   "execution_count": 12,
   "id": "c591526b",
   "metadata": {},
   "outputs": [
    {
     "data": {
      "text/plain": [
       "0    500\n",
       "1    268\n",
       "Name: Outcome, dtype: int64"
      ]
     },
     "execution_count": 12,
     "metadata": {},
     "output_type": "execute_result"
    }
   ],
   "source": [
    "#understand the distribution\n",
    "diabetes_df['Outcome'].value_counts()"
   ]
  },
  {
   "cell_type": "code",
   "execution_count": 17,
   "id": "ff0c2d2d",
   "metadata": {},
   "outputs": [
    {
     "name": "stdout",
     "output_type": "stream",
     "text": [
      "Intercept   -0.492495\n",
      "Glucose      0.006960\n",
      "dtype: float64\n"
     ]
    }
   ],
   "source": [
    "#OLS syntax is different, use ~ instead of =\n",
    "diabetes_vs_glucose = ols('Outcome~Glucose', data=diabetes_df).fit()\n",
    "\n",
    "#view parameters, get intercept and coefficient\n",
    "print(diabetes_vs_glucose.params)\n",
    "\n",
    "#y = mx + b\n",
    "#outcome = .007(glucose) + (-0.49)\n",
    "\n",
    "#create variables for those parameters\n",
    "intercept, slope = diabetes_vs_glucose.params"
   ]
  },
  {
   "cell_type": "code",
   "execution_count": 20,
   "id": "10f06daf",
   "metadata": {},
   "outputs": [
    {
     "data": {
      "text/plain": [
       "<matplotlib.lines._AxLine at 0x24702816130>"
      ]
     },
     "execution_count": 20,
     "metadata": {},
     "output_type": "execute_result"
    },
    {
     "data": {
      "image/png": "[encoded data removed]",
      "text/plain": [
       "<Figure size 432x288 with 1 Axes>"
      ]
     },
     "metadata": {
      "needs_background": "light"
     },
     "output_type": "display_data"
    }
   ],
   "source": [
    "sns.scatterplot(x='Glucose', y='Outcome', data=diabetes_df)\n",
    "plt.axline(xy1=(0, intercept), slope=slope, color='black')"
   ]
  },
  {
   "cell_type": "code",
   "execution_count": null,
   "id": "fac8ea11",
   "metadata": {},
   "outputs": [],
   "source": [
    "# looks strange becasue we are using this to predict a binary outcome \n",
    "# multiple linear regression (OLS) is not the right tool for modeling this dataset\n",
    "\n",
    "# in this scenario, use logistic regression"
   ]
  },
  {
   "cell_type": "markdown",
   "id": "bf7216c2",
   "metadata": {},
   "source": [
    "### Logistic Regression"
   ]
  },
  {
   "cell_type": "code",
   "execution_count": 21,
   "id": "4171d2ae",
   "metadata": {},
   "outputs": [],
   "source": [
    "from statsmodels.formula.api import logit"
   ]
  },
  {
   "cell_type": "code",
   "execution_count": 23,
   "id": "b2f18c44",
   "metadata": {},
   "outputs": [
    {
     "name": "stdout",
     "output_type": "stream",
     "text": [
      "Optimization terminated successfully.\n",
      "         Current function value: 0.519116\n",
      "         Iterations 6\n",
      "Intercept   -5.912449\n",
      "Age          0.024778\n",
      "Glucose      0.035644\n",
      "dtype: float64\n"
     ]
    }
   ],
   "source": [
    "#no interaction, like in Dabetes above\n",
    "#addative\n",
    "age_gl_no_int = logit('Outcome ~ Age + Glucose', data = diabetes_df).fit()\n",
    "print(age_gl_no_int.params)"
   ]
  },
  {
   "cell_type": "code",
   "execution_count": 24,
   "id": "e280f935",
   "metadata": {},
   "outputs": [],
   "source": [
    "#gives us the values for an equation\n",
    "# outcome = -5.9 + 0.02(age) + 0.04(glucose)"
   ]
  },
  {
   "cell_type": "code",
   "execution_count": 25,
   "id": "00007dfd",
   "metadata": {},
   "outputs": [
    {
     "name": "stdout",
     "output_type": "stream",
     "text": [
      "Optimization terminated successfully.\n",
      "         Current function value: 0.513197\n",
      "         Iterations 6\n",
      "Intercept     -9.510659\n",
      "Age            0.126536\n",
      "Glucose        0.063854\n",
      "Age:Glucose   -0.000789\n",
      "dtype: float64\n"
     ]
    }
   ],
   "source": [
    "#with interaction\n",
    "#multiplicative\n",
    "age_gl_int = logit('Outcome ~ Age * Glucose', data = diabetes_df).fit()\n",
    "print(age_gl_int.params)"
   ]
  },
  {
   "cell_type": "code",
   "execution_count": null,
   "id": "697719ea",
   "metadata": {},
   "outputs": [],
   "source": [
    "# outcome = -8.5 + 0.12(age) + 0.064(glucose) + -0.0008(age)(glucose)"
   ]
  },
  {
   "cell_type": "markdown",
   "id": "d95f4748",
   "metadata": {},
   "source": [
    "### Ways to Evaluate Models\n",
    "\n",
    "- accuracy = true positive + true negatives / tp + tn + fp + fn\n",
    "- precision = tp / tp + fp\n",
    "- recall = tp / tp + fn\n",
    "- F1score = 2 * (precision * recall) / (precision + recall)\n",
    "\n",
    "false positive - type 1 error\n",
    "false negative - type 2 error / miss\n",
    "\n",
    "think about the problem you are solving to decide how to evaluate the model\n",
    "- are false positives or false negatives more detrimental "
   ]
  },
  {
   "cell_type": "code",
   "execution_count": 29,
   "id": "53837f42",
   "metadata": {},
   "outputs": [],
   "source": [
    "from sklearn.model_selection import train_test_split\n",
    "from sklearn.linear_model import LinearRegression"
   ]
  },
  {
   "cell_type": "code",
   "execution_count": 30,
   "id": "3ab9d437",
   "metadata": {},
   "outputs": [],
   "source": [
    "#trying to predict outcome, isolate data of interest\n",
    "#drop the outcome column and use it as the test\n",
    "X = diabetes_df.drop('Outcome', axis=1)\n",
    "y = diabetes_df['Outcome']\n",
    "\n",
    "#train test split\n",
    "X_train, X_test, y_train, y_test = train_test_split(X, y, test_size=0.3, random_state=42)\n",
    "\n",
    "#standardization - transforming values so mean is 0 SD is 1\n",
    "from sklearn.preprocessing import StandardScaler\n",
    "sc = StandardScaler()\n",
    "X_train = sc.fit_transform(X_train)\n",
    "X_test = sc.fit_transform(X_test)"
   ]
  },
  {
   "cell_type": "code",
   "execution_count": 34,
   "id": "000d29d2",
   "metadata": {},
   "outputs": [
    {
     "ename": "NameError",
     "evalue": "name 'LogisticRegression' is not defined",
     "output_type": "error",
     "traceback": [
      "\u001b[1;31m---------------------------------------------------------------------------\u001b[0m",
      "\u001b[1;31mNameError\u001b[0m                                 Traceback (most recent call last)",
      "\u001b[1;32m~\\AppData\\Local\\Temp/ipykernel_12500/2571803174.py\u001b[0m in \u001b[0;36m<module>\u001b[1;34m\u001b[0m\n\u001b[1;32m----> 1\u001b[1;33m \u001b[0mregression\u001b[0m \u001b[1;33m=\u001b[0m \u001b[0mLogisticRegression\u001b[0m\u001b[1;33m(\u001b[0m\u001b[0mrandom_state\u001b[0m \u001b[1;33m=\u001b[0m\u001b[1;36m0\u001b[0m\u001b[1;33m)\u001b[0m\u001b[1;33m.\u001b[0m\u001b[0mfit\u001b[0m\u001b[1;33m(\u001b[0m\u001b[0mX_train\u001b[0m\u001b[1;33m,\u001b[0m\u001b[0my_train\u001b[0m\u001b[1;33m)\u001b[0m\u001b[1;33m\u001b[0m\u001b[1;33m\u001b[0m\u001b[0m\n\u001b[0m\u001b[0;32m      2\u001b[0m \u001b[1;33m\u001b[0m\u001b[0m\n\u001b[0;32m      3\u001b[0m \u001b[0my_predicted\u001b[0m \u001b[1;33m=\u001b[0m \u001b[0mregression\u001b[0m\u001b[1;33m.\u001b[0m\u001b[0mpredict\u001b[0m\u001b[1;33m(\u001b[0m\u001b[0mX_test\u001b[0m\u001b[1;33m)\u001b[0m\u001b[1;33m\u001b[0m\u001b[1;33m\u001b[0m\u001b[0m\n",
      "\u001b[1;31mNameError\u001b[0m: name 'LogisticRegression' is not defined"
     ]
    }
   ],
   "source": [
    "regression = LogisticRegression(random_state=0).fit(X_train,y_train)\n",
    "\n",
    "y_predicted = regression.predict(X_test)"
   ]
  },
  {
   "cell_type": "raw",
   "id": "ca7f6dac",
   "metadata": {},
   "source": [
    "regression.score(X_test, y_test)"
   ]
  },
  {
   "cell_type": "code",
   "execution_count": null,
   "id": "b75d0e81",
   "metadata": {},
   "outputs": [],
   "source": [
    "# recall\n",
    "# half of the cases are false negatives \n",
    "# of the negative cases, how many were identified"
   ]
  },
  {
   "cell_type": "code",
   "execution_count": null,
   "id": "15420f7c",
   "metadata": {},
   "outputs": [],
   "source": [
    "#mosaic confusion matrix\n",
    "# x axis is predicted variable\n",
    "#y is independent variable"
   ]
  }
 ],
 "metadata": {
  "kernelspec": {
   "display_name": "Python 3 (ipykernel)",
   "language": "python",
   "name": "python3"
  },
  "language_info": {
   "codemirror_mode": {
    "name": "ipython",
    "version": 3
   },
   "file_extension": ".py",
   "mimetype": "text/x-python",
   "name": "python",
   "nbconvert_exporter": "python",
   "pygments_lexer": "ipython3",
   "version": "3.9.7"
  }
 },
 "nbformat": 4,
 "nbformat_minor": 5
}
