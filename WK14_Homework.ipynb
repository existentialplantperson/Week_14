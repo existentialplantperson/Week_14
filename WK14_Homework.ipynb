{
 "cells": [
  {
   "cell_type": "markdown",
   "id": "a76c5e5c",
   "metadata": {},
   "source": [
    "### Week 14 Homework\n",
    "##### Angela Spencer - January 5, 2022"
   ]
  },
  {
   "cell_type": "markdown",
   "id": "e74e59e4",
   "metadata": {},
   "source": [
    "#### 1.\tPerform pre-processing on the full dataset here: https://www.kaggle.com/sohier/calcofi "
   ]
  },
  {
   "cell_type": "code",
   "execution_count": null,
   "id": "465533b9",
   "metadata": {},
   "outputs": [],
   "source": []
  },
  {
   "cell_type": "markdown",
   "id": "2ea5c0e4",
   "metadata": {},
   "source": [
    "#### 2.\tPerform feature selection (decide what columns should be included in your analysis). How did you figure out what features were important?"
   ]
  },
  {
   "cell_type": "code",
   "execution_count": null,
   "id": "78802071",
   "metadata": {},
   "outputs": [],
   "source": []
  },
  {
   "cell_type": "markdown",
   "id": "67ce8294",
   "metadata": {},
   "source": [
    "#### 3.\tPerform multiple linear regression on the dataset. Be sure to display the final resulting equation with the coefficients and intercept in markdown. "
   ]
  },
  {
   "cell_type": "code",
   "execution_count": null,
   "id": "0e86fada",
   "metadata": {},
   "outputs": [],
   "source": []
  },
  {
   "cell_type": "markdown",
   "id": "9e04f63d",
   "metadata": {},
   "source": [
    "#### 4.\tWhich regression approach had the “best” performance? Be sure to compare it to what you did last week."
   ]
  },
  {
   "cell_type": "code",
   "execution_count": null,
   "id": "1f04d825",
   "metadata": {},
   "outputs": [],
   "source": []
  },
  {
   "cell_type": "markdown",
   "id": "cf9f11e3",
   "metadata": {},
   "source": [
    "#### 5.\tWork with the diabetes dataset to perform multiple logistic regression. "
   ]
  },
  {
   "cell_type": "code",
   "execution_count": null,
   "id": "2ee44a3d",
   "metadata": {},
   "outputs": [],
   "source": []
  },
  {
   "cell_type": "markdown",
   "id": "bf45c267",
   "metadata": {},
   "source": [
    "#### 6.\tWhat are the other ways to assess the performance of the model besides accuracy? What approach makes the most sense with the diabetes dataset? Why? "
   ]
  },
  {
   "cell_type": "code",
   "execution_count": null,
   "id": "de57283e",
   "metadata": {},
   "outputs": [],
   "source": []
  },
  {
   "cell_type": "markdown",
   "id": "bf127b86",
   "metadata": {},
   "source": [
    "#### 7.\tTune your model to improve performance based on the performance metric you identified in question 6. Look at the documentation for logistic regression in statsmodel and/or sklearn and see if you can tune the model performance based on available parameters. Please note: data scientists need to constantly learn new approaches to optimizing models. This is one way of doing that."
   ]
  },
  {
   "cell_type": "code",
   "execution_count": null,
   "id": "13eefe61",
   "metadata": {},
   "outputs": [],
   "source": []
  },
  {
   "cell_type": "markdown",
   "id": "19e17f58",
   "metadata": {},
   "source": [
    "#### 8.\tIs the KNN model or the multiple logistic regression model more performant for the diabetes dataset? How can you tell? "
   ]
  },
  {
   "cell_type": "code",
   "execution_count": null,
   "id": "176953a9",
   "metadata": {},
   "outputs": [],
   "source": []
  }
 ],
 "metadata": {
  "kernelspec": {
   "display_name": "Python 3 (ipykernel)",
   "language": "python",
   "name": "python3"
  },
  "language_info": {
   "codemirror_mode": {
    "name": "ipython",
    "version": 3
   },
   "file_extension": ".py",
   "mimetype": "text/x-python",
   "name": "python",
   "nbconvert_exporter": "python",
   "pygments_lexer": "ipython3",
   "version": "3.9.7"
  }
 },
 "nbformat": 4,
 "nbformat_minor": 5
}
