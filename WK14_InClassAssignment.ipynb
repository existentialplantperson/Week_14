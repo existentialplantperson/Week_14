{
 "cells": [
  {
   "cell_type": "markdown",
   "id": "c92fd083",
   "metadata": {},
   "source": [
    "### Week In Class Assignment \n",
    "##### Angela Spencer - December 22, 2021"
   ]
  },
  {
   "cell_type": "markdown",
   "id": "722999e9",
   "metadata": {},
   "source": [
    "#### 1. Using the documentation for Recursive Feature Selection, apply this process to the crime dataset to create the best multivariate linear regression model\n",
    "https://scikit-learn.org/stable/modules/generated/sklearn.feature_selection.RFE.html .\n",
    "#### You can select what you’re trying to predict, but be sure to indicate what that is. Be sure to explain what RFE is in the markdown. You should be able to answer this using what’s on the documentation page + what you already know.\n"
   ]
  },
  {
   "cell_type": "code",
   "execution_count": 56,
   "id": "59b41cf4",
   "metadata": {},
   "outputs": [],
   "source": [
    "import numpy as np\n",
    "import pandas as pd\n",
    "import matplotlib.pyplot as plt\n",
    "import seaborn as sns\n",
    "\n",
    "from sklearn.model_selection import train_test_split\n",
    "from sklearn.feature_selection import RFE\n",
    "from sklearn.linear_model import LinearRegression\n",
    "from statsmodels.formula.api import logit\n",
    "from sklearn.linear_model import LogisticRegression\n",
    "from statsmodels.formula.api import ols"
   ]
  },
  {
   "cell_type": "markdown",
   "id": "745356e6",
   "metadata": {},
   "source": [
    "The data (X1, X2, X3, X4, X5, X6, X7) are for each city.\n",
    "\n",
    "    X1 = total overall reported crime rate per 1 million residents\n",
    "    X2 = reported violent crime rate per 100,000 residents\n",
    "    X3 = annual police funding in USD/resident\n",
    "    X4 = % of people 25 years+ with 4 yrs. of high school\n",
    "    X5 = % of 16 to 19 year-olds not in highschool and not highschool graduates.\n",
    "    X6 = % of 18 to 24 year-olds in college\n",
    "    X7 = % of people 25 years+ with at least 4 years of college\n",
    "\n",
    "Reference: Life In America's Small Cities, By G.S. Thomas"
   ]
  },
  {
   "cell_type": "code",
   "execution_count": 2,
   "id": "19940f24",
   "metadata": {},
   "outputs": [
    {
     "data": {
      "text/html": [
       "<div>\n",
       "<style scoped>\n",
       "    .dataframe tbody tr th:only-of-type {\n",
       "        vertical-align: middle;\n",
       "    }\n",
       "\n",
       "    .dataframe tbody tr th {\n",
       "        vertical-align: top;\n",
       "    }\n",
       "\n",
       "    .dataframe thead th {\n",
       "        text-align: right;\n",
       "    }\n",
       "</style>\n",
       "<table border=\"1\" class=\"dataframe\">\n",
       "  <thead>\n",
       "    <tr style=\"text-align: right;\">\n",
       "      <th></th>\n",
       "      <th>X1</th>\n",
       "      <th>X2</th>\n",
       "      <th>X3</th>\n",
       "      <th>X4</th>\n",
       "      <th>X5</th>\n",
       "      <th>X6</th>\n",
       "      <th>X7</th>\n",
       "    </tr>\n",
       "  </thead>\n",
       "  <tbody>\n",
       "    <tr>\n",
       "      <th>0</th>\n",
       "      <td>478</td>\n",
       "      <td>184</td>\n",
       "      <td>40</td>\n",
       "      <td>74</td>\n",
       "      <td>11</td>\n",
       "      <td>31</td>\n",
       "      <td>20</td>\n",
       "    </tr>\n",
       "    <tr>\n",
       "      <th>1</th>\n",
       "      <td>494</td>\n",
       "      <td>213</td>\n",
       "      <td>32</td>\n",
       "      <td>72</td>\n",
       "      <td>11</td>\n",
       "      <td>43</td>\n",
       "      <td>18</td>\n",
       "    </tr>\n",
       "    <tr>\n",
       "      <th>2</th>\n",
       "      <td>643</td>\n",
       "      <td>347</td>\n",
       "      <td>57</td>\n",
       "      <td>70</td>\n",
       "      <td>18</td>\n",
       "      <td>16</td>\n",
       "      <td>16</td>\n",
       "    </tr>\n",
       "    <tr>\n",
       "      <th>3</th>\n",
       "      <td>341</td>\n",
       "      <td>565</td>\n",
       "      <td>31</td>\n",
       "      <td>71</td>\n",
       "      <td>11</td>\n",
       "      <td>25</td>\n",
       "      <td>19</td>\n",
       "    </tr>\n",
       "    <tr>\n",
       "      <th>4</th>\n",
       "      <td>773</td>\n",
       "      <td>327</td>\n",
       "      <td>67</td>\n",
       "      <td>72</td>\n",
       "      <td>9</td>\n",
       "      <td>29</td>\n",
       "      <td>24</td>\n",
       "    </tr>\n",
       "  </tbody>\n",
       "</table>\n",
       "</div>"
      ],
      "text/plain": [
       "    X1   X2  X3  X4  X5  X6  X7\n",
       "0  478  184  40  74  11  31  20\n",
       "1  494  213  32  72  11  43  18\n",
       "2  643  347  57  70  18  16  16\n",
       "3  341  565  31  71  11  25  19\n",
       "4  773  327  67  72   9  29  24"
      ]
     },
     "execution_count": 2,
     "metadata": {},
     "output_type": "execute_result"
    }
   ],
   "source": [
    "crime_df = pd.read_csv('..\\Datasets\\crime_data.csv')\n",
    "crime_df.head()"
   ]
  },
  {
   "cell_type": "code",
   "execution_count": 18,
   "id": "43386e14",
   "metadata": {},
   "outputs": [],
   "source": [
    "#predicted variable = X3 (annual police funding)\n",
    "X = crime_df.drop('X3', axis=1)\n",
    "y = crime_df[['X3']]"
   ]
  },
  {
   "cell_type": "code",
   "execution_count": 22,
   "id": "d0eb6961",
   "metadata": {},
   "outputs": [
    {
     "name": "stdout",
     "output_type": "stream",
     "text": [
      "[False False False  True False  True]\n",
      "[4 5 3 1 2 1]\n"
     ]
    }
   ],
   "source": [
    "#initialize RFE model\n",
    "rfe = RFE(estimator=LinearRegression(), n_features_to_select = 2)\n",
    "\n",
    "#transform data with RFE\n",
    "X_rfe = rfe.fit_transform(X,y)\n",
    "\n",
    "#fit data to model\n",
    "model.fit(X_rfe,y)\n",
    "\n",
    "print(rfe.support_)\n",
    "print(rfe.ranking_)"
   ]
  },
  {
   "cell_type": "code",
   "execution_count": 20,
   "id": "0c54b3c5",
   "metadata": {},
   "outputs": [
    {
     "name": "stdout",
     "output_type": "stream",
     "text": [
      "Optimum number of features: 3\n",
      "Score with 3 features: 0.083759\n"
     ]
    }
   ],
   "source": [
    "#number of features\n",
    "numf_list = np.arange(1,6)\n",
    "high_score = 0\n",
    "\n",
    "#variable to store optimum features\n",
    "numf = 0\n",
    "score_list = []\n",
    "\n",
    "#loop\n",
    "for n in range(len(numf_list)):\n",
    "    X_train, X_test, y_train, y_test = train_test_split(X,y, test_size=0.3, random_state=0)\n",
    "    model = LinearRegression()\n",
    "    rfe = RFE(estimator=LinearRegression(),n_features_to_select = numf_list[n])\n",
    "    X_train_rfe = rfe.fit_transform(X_train, y_train)\n",
    "    X_test_rfe = rfe.transform(X_test)\n",
    "    model.fit(X_train_rfe, y_train)\n",
    "    \n",
    "    score = model.score(X_test_rfe, y_test)\n",
    "    score_list.append(score)\n",
    "    \n",
    "    if(score > high_score):\n",
    "        high_score = score\n",
    "        numf = numf_list[n]\n",
    "print('Optimum number of features: %d' %numf)\n",
    "print('Score with %d features: %f' %(numf, high_score))"
   ]
  },
  {
   "cell_type": "code",
   "execution_count": 23,
   "id": "4002a5e3",
   "metadata": {},
   "outputs": [
    {
     "name": "stdout",
     "output_type": "stream",
     "text": [
      "[False False False  True  True  True]\n",
      "[3 4 2 1 1 1]\n"
     ]
    }
   ],
   "source": [
    "#initialize RFE model\n",
    "rfe = RFE(estimator=LinearRegression(), n_features_to_select = 3)\n",
    "\n",
    "#transform data with RFE\n",
    "X_rfe = rfe.fit_transform(X,y)\n",
    "\n",
    "#fit data to model\n",
    "model.fit(X_rfe,y)\n",
    "\n",
    "print(rfe.support_)\n",
    "print(rfe.ranking_)"
   ]
  },
  {
   "cell_type": "code",
   "execution_count": 54,
   "id": "ea31c4cf",
   "metadata": {},
   "outputs": [
    {
     "data": {
      "text/plain": [
       "array([[38.04799974],\n",
       "       [47.39194819],\n",
       "       [30.18392442],\n",
       "       [33.6918988 ],\n",
       "       [46.18570699],\n",
       "       [33.85530005],\n",
       "       [26.66815046],\n",
       "       [34.64010725],\n",
       "       [40.16663065],\n",
       "       [45.29550244],\n",
       "       [36.51965446],\n",
       "       [35.20256553],\n",
       "       [42.05961964],\n",
       "       [33.99759484],\n",
       "       [40.1000183 ]])"
      ]
     },
     "execution_count": 54,
     "metadata": {},
     "output_type": "execute_result"
    }
   ],
   "source": [
    "#the optimum number of features to include in the X variable is 3\n",
    "#these features correspond to columns X5, X6 and X7\n",
    "X = crime_df[['X5', 'X6', 'X7']]\n",
    "y = crime_df[['X3']]\n",
    "\n",
    "# Train test split\n",
    "X_train, X_test, y_train, y_test = train_test_split(X, y, test_size=0.3, random_state=0)"
   ]
  },
  {
   "cell_type": "code",
   "execution_count": 66,
   "id": "6e0723f9",
   "metadata": {},
   "outputs": [
    {
     "data": {
      "text/plain": [
       "array([44, 36, 29, 44, 33, 44, 36, 33, 32, 31, 44, 36, 33, 44, 32],\n",
       "      dtype=int64)"
      ]
     },
     "execution_count": 66,
     "metadata": {},
     "output_type": "execute_result"
    }
   ],
   "source": [
    "#standardization - transforming values so mean is 0 SD is 1\n",
    "from sklearn.preprocessing import StandardScaler\n",
    "\n",
    "sc = StandardScaler()\n",
    "X_train = sc.fit_transform(X_train)\n",
    "X_test = sc.fit_transform(X_test)\n",
    "y_train = np.ravel(y_train)\n",
    "y_test = np.ravel(y_test)\n",
    "\n",
    "#logistic regression with interaction\n",
    "reg = LogisticRegression()\n",
    "\n",
    "reg.fit(X_train,y_train)\n",
    "\n",
    "y_pred = reg.predict(X_test)\n",
    "y_pred"
   ]
  },
  {
   "cell_type": "code",
   "execution_count": 67,
   "id": "7111706e",
   "metadata": {},
   "outputs": [
    {
     "data": {
      "text/plain": [
       "0.0"
      ]
     },
     "execution_count": 67,
     "metadata": {},
     "output_type": "execute_result"
    }
   ],
   "source": [
    "reg.score(X_test, y_test)"
   ]
  },
  {
   "cell_type": "code",
   "execution_count": 58,
   "id": "c2672f5d",
   "metadata": {},
   "outputs": [
    {
     "name": "stdout",
     "output_type": "stream",
     "text": [
      "Intercept    63.529765\n",
      "X5           -3.383845\n",
      "X6           -1.001016\n",
      "X5:X6         0.067283\n",
      "X7           -2.605845\n",
      "X5:X7         0.327290\n",
      "X6:X7         0.046423\n",
      "X5:X6:X7     -0.003778\n",
      "dtype: float64\n"
     ]
    }
   ],
   "source": [
    "#Ordinary Least Squares\n",
    "model = ols('X3~X5*X6*X7', data=crime_df).fit()\n",
    "print(model.params)"
   ]
  },
  {
   "cell_type": "code",
   "execution_count": null,
   "id": "8e27cc52",
   "metadata": {},
   "outputs": [],
   "source": []
  },
  {
   "cell_type": "markdown",
   "id": "d9376161",
   "metadata": {},
   "source": [
    "#### 2. Create a list of preprocessing steps you should try when working to build a model. Briefly describe what each step is. Work with your group to come up with the most comprehensive list you can.\n",
    "\n",
    "1. remove or fill NaNs \n",
    "    - replace NaNs with values when possible, otherwise remove columns and rows to eliminate all NaNs\n",
    "2. converting dtypes to numeric\n",
    "    - regression models can only interpret numerical values, ensure that all numeric values have a dtype of float or integer\n",
    "3. converting categorical variables to numerical\n",
    "    - string values and string categories must be converted to numeric values with a binary system of with encoding of each category\n",
    "4. feature engineering\n",
    "    - utilize numerical value to create new columns such as differece and mean\n",
    "5. standardizing, normalizing, scaling\n",
    "    - features that have a high variance compared to others should be standardized to bring the scales into a similar range\n",
    "6. feature selection / dimensionality reduction\n",
    "    - select features that are of interest and eliminate non-significant features; also eliminate any redundant columns already present of from preprocessing steps above\n",
    "7. stratified sampling\n",
    "    - split the dataset into training and testing data"
   ]
  },
  {
   "cell_type": "code",
   "execution_count": null,
   "id": "ef468075",
   "metadata": {},
   "outputs": [],
   "source": []
  }
 ],
 "metadata": {
  "kernelspec": {
   "display_name": "Python 3 (ipykernel)",
   "language": "python",
   "name": "python3"
  },
  "language_info": {
   "codemirror_mode": {
    "name": "ipython",
    "version": 3
   },
   "file_extension": ".py",
   "mimetype": "text/x-python",
   "name": "python",
   "nbconvert_exporter": "python",
   "pygments_lexer": "ipython3",
   "version": "3.9.7"
  }
 },
 "nbformat": 4,
 "nbformat_minor": 5
}
